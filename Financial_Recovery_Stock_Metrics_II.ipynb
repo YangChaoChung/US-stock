{
  "nbformat": 4,
  "nbformat_minor": 0,
  "metadata": {
    "colab": {
      "provenance": [],
      "authorship_tag": "ABX9TyMPUK8xFShW6xIBnldpPYqD",
      "include_colab_link": true
    },
    "kernelspec": {
      "name": "python3",
      "display_name": "Python 3"
    },
    "language_info": {
      "name": "python"
    }
  },
  "cells": [
    {
      "cell_type": "markdown",
      "metadata": {
        "id": "view-in-github",
        "colab_type": "text"
      },
      "source": [
        "<a href=\"https://colab.research.google.com/github/YangChaoChung/US-stock/blob/main/Financial_Recovery_Stock_Metrics_II.ipynb\" target=\"_parent\"><img src=\"https://colab.research.google.com/assets/colab-badge.svg\" alt=\"Open In Colab\"/></a>"
      ]
    },
    {
      "cell_type": "markdown",
      "source": [
        "1. Add the industry to table\n",
        "2. Calculate the expect prices via EPS ... ect"
      ],
      "metadata": {
        "id": "f80qt9lOmTpg"
      }
    },
    {
      "cell_type": "code",
      "execution_count": null,
      "metadata": {
        "colab": {
          "base_uri": "https://localhost:8080/"
        },
        "id": "S-IhM20ltmDa",
        "outputId": "bcd8cd49-7f9e-4e1f-84e5-727e9db9c68e"
      },
      "outputs": [
        {
          "output_type": "stream",
          "name": "stdout",
          "text": [
            "Requirement already satisfied: yfinance in /usr/local/lib/python3.10/dist-packages (0.2.48)\n",
            "Requirement already satisfied: pandas>=1.3.0 in /usr/local/lib/python3.10/dist-packages (from yfinance) (2.2.2)\n",
            "Requirement already satisfied: numpy>=1.16.5 in /usr/local/lib/python3.10/dist-packages (from yfinance) (1.26.4)\n",
            "Requirement already satisfied: requests>=2.31 in /usr/local/lib/python3.10/dist-packages (from yfinance) (2.32.3)\n",
            "Requirement already satisfied: multitasking>=0.0.7 in /usr/local/lib/python3.10/dist-packages (from yfinance) (0.0.11)\n",
            "Requirement already satisfied: lxml>=4.9.1 in /usr/local/lib/python3.10/dist-packages (from yfinance) (5.3.0)\n",
            "Requirement already satisfied: platformdirs>=2.0.0 in /usr/local/lib/python3.10/dist-packages (from yfinance) (4.3.6)\n",
            "Requirement already satisfied: pytz>=2022.5 in /usr/local/lib/python3.10/dist-packages (from yfinance) (2024.2)\n",
            "Requirement already satisfied: frozendict>=2.3.4 in /usr/local/lib/python3.10/dist-packages (from yfinance) (2.4.6)\n",
            "Requirement already satisfied: peewee>=3.16.2 in /usr/local/lib/python3.10/dist-packages (from yfinance) (3.17.7)\n",
            "Requirement already satisfied: beautifulsoup4>=4.11.1 in /usr/local/lib/python3.10/dist-packages (from yfinance) (4.12.3)\n",
            "Requirement already satisfied: html5lib>=1.1 in /usr/local/lib/python3.10/dist-packages (from yfinance) (1.1)\n",
            "Requirement already satisfied: soupsieve>1.2 in /usr/local/lib/python3.10/dist-packages (from beautifulsoup4>=4.11.1->yfinance) (2.6)\n",
            "Requirement already satisfied: six>=1.9 in /usr/local/lib/python3.10/dist-packages (from html5lib>=1.1->yfinance) (1.16.0)\n",
            "Requirement already satisfied: webencodings in /usr/local/lib/python3.10/dist-packages (from html5lib>=1.1->yfinance) (0.5.1)\n",
            "Requirement already satisfied: python-dateutil>=2.8.2 in /usr/local/lib/python3.10/dist-packages (from pandas>=1.3.0->yfinance) (2.8.2)\n",
            "Requirement already satisfied: tzdata>=2022.7 in /usr/local/lib/python3.10/dist-packages (from pandas>=1.3.0->yfinance) (2024.2)\n",
            "Requirement already satisfied: charset-normalizer<4,>=2 in /usr/local/lib/python3.10/dist-packages (from requests>=2.31->yfinance) (3.4.0)\n",
            "Requirement already satisfied: idna<4,>=2.5 in /usr/local/lib/python3.10/dist-packages (from requests>=2.31->yfinance) (3.10)\n",
            "Requirement already satisfied: urllib3<3,>=1.21.1 in /usr/local/lib/python3.10/dist-packages (from requests>=2.31->yfinance) (2.2.3)\n",
            "Requirement already satisfied: certifi>=2017.4.17 in /usr/local/lib/python3.10/dist-packages (from requests>=2.31->yfinance) (2024.8.30)\n"
          ]
        }
      ],
      "source": [
        "pip install yfinance"
      ]
    },
    {
      "cell_type": "code",
      "source": [
        "pip install pandas"
      ],
      "metadata": {
        "colab": {
          "base_uri": "https://localhost:8080/"
        },
        "id": "9j8kC9BWFrWJ",
        "outputId": "0a15496a-d281-47bf-8fb6-298041e16847"
      },
      "execution_count": null,
      "outputs": [
        {
          "output_type": "stream",
          "name": "stdout",
          "text": [
            "Requirement already satisfied: pandas in /usr/local/lib/python3.10/dist-packages (2.2.2)\n",
            "Requirement already satisfied: numpy>=1.22.4 in /usr/local/lib/python3.10/dist-packages (from pandas) (1.26.4)\n",
            "Requirement already satisfied: python-dateutil>=2.8.2 in /usr/local/lib/python3.10/dist-packages (from pandas) (2.8.2)\n",
            "Requirement already satisfied: pytz>=2020.1 in /usr/local/lib/python3.10/dist-packages (from pandas) (2024.2)\n",
            "Requirement already satisfied: tzdata>=2022.7 in /usr/local/lib/python3.10/dist-packages (from pandas) (2024.2)\n",
            "Requirement already satisfied: six>=1.5 in /usr/local/lib/python3.10/dist-packages (from python-dateutil>=2.8.2->pandas) (1.16.0)\n"
          ]
        }
      ]
    },
    {
      "cell_type": "code",
      "source": [
        "import pandas as pd\n",
        "import numpy as np\n",
        "import yfinance as yf  # For fetching financial data\n",
        "import logging\n",
        "import time  # To handle API rate limits\n",
        "import datetime\n",
        "from google.colab import files"
      ],
      "metadata": {
        "id": "rEG9bY2TtxpQ"
      },
      "execution_count": null,
      "outputs": []
    },
    {
      "cell_type": "code",
      "source": [
        "recovery_criteria = {\n",
        "    'revenue_growth': 0.0,             # Any positive growth\n",
        "    'net_income_growth': 0.0,        # Any positive growth\n",
        "    'ebitda_growth': 0.0,            # Any positive growth\n",
        "    'eps_growth': 0.0,               # Any positive EPS growth\n",
        "    'gross_profit_margin': 0.30,     # At least 30%\n",
        "    'operating_margin': 0.10,        # At least 10%\n",
        "    'roe': None,                     # At least 10%\n",
        "    'roa': 0.05,                     # At least 5%\n",
        "}\n",
        "\n",
        "# Define your stock list\n",
        "stock_list = ['AAPL', 'MSFT', 'GOOGL', 'AMZN', 'TSLA']\n",
        "# stock_list = ['ABOS', 'BIIB'] # speculative stocks\n",
        "\n",
        "# Define the recovery score threshold\n",
        "recovery_score_threshold = 10  # Stocks scoring 70% or higher are considered recovering"
      ],
      "metadata": {
        "id": "blhL8B2zt14J"
      },
      "execution_count": null,
      "outputs": []
    },
    {
      "cell_type": "code",
      "source": [
        "import pandas as pd\n",
        "from google.colab import files\n",
        "\n",
        "def upload_csv():\n",
        "    # prompt: import the .csv file into a Google Colab notebook and save Symbol column to stock_list\n",
        "    uploaded = files.upload()\n",
        "\n",
        "    # Retrieve the filename from the uploaded files dictionary\n",
        "    for fn in uploaded.keys():\n",
        "        print(f'User uploaded file \"{fn}\" with length {len(uploaded[fn])} bytes')\n",
        "\n",
        "        # Use the filename directly instead of assuming a specific name\n",
        "        df = pd.read_csv(fn)\n",
        "        stock_list = df['Symbol'].tolist()\n",
        "        return stock_list\n"
      ],
      "metadata": {
        "id": "ORzq6kbuC87V"
      },
      "execution_count": null,
      "outputs": []
    },
    {
      "cell_type": "code",
      "source": [
        "def get_financial_data(ticker):\n",
        "    try:\n",
        "        stock = yf.Ticker(ticker)\n",
        "        financials = {\n",
        "            'income_statement': stock.financials,                # Annual\n",
        "            'quarterly_income_statement': stock.quarterly_financials,\n",
        "            'balance_sheet': stock.balance_sheet,                # Annual\n",
        "            'quarterly_balance_sheet': stock.quarterly_balance_sheet,\n",
        "            'cash_flow': stock.cashflow,                         # Annual # Need to check\n",
        "            'quarterly_cash_flow': stock.quarterly_cashflow,     # Need to check\n",
        "            'info': stock.info\n",
        "        }\n",
        "        return financials\n",
        "    except Exception as e:\n",
        "        logging.error(f\"Error fetching data for {ticker}: {e}\")\n",
        "        return None\n"
      ],
      "metadata": {
        "id": "bJbcc0Vot6jK"
      },
      "execution_count": null,
      "outputs": []
    },
    {
      "cell_type": "code",
      "source": [
        "# Example usage\n",
        "# speculative_sectors = ['Utilities']\n",
        "speculative_sectors = []\n",
        "speculative_industries = ['Biotechnology']\n",
        "# referring to small-cap stocks that are under $250 million,\n",
        "# and ultra or mega-cap stocks, which are large caps that are over $50 billion.\n",
        "\n",
        "def is_speculative(financials):\n",
        "    # Ensure 'info' dictionary is present and not empty\n",
        "    if not financials.get('info'):\n",
        "        return False  # Could log an error or raise an exception depending on your application's needs\n",
        "\n",
        "    info = financials['info']\n",
        "    # Define speculative conditions\n",
        "    conditions = {\n",
        "        'high_volatility': info.get('beta', 0) > 1.5,\n",
        "        'market_capitalization': info.get('marketCap', 0) < 154999870,\n",
        "        'speculative_sector': info.get('sector') in speculative_sectors,\n",
        "        'speculative_industry': info.get('industry') in speculative_industries\n",
        "    }\n",
        "\n",
        "    # A stock is considered speculative if any of the conditions are met\n",
        "    return any(conditions.values())"
      ],
      "metadata": {
        "id": "wd4fIpWIvWnV"
      },
      "execution_count": null,
      "outputs": []
    },
    {
      "cell_type": "code",
      "source": [
        "def analyze_financials(financials, ticker):\n",
        "    analysis = {}\n",
        "    try:\n",
        "        # Choose between quarterly or annual data\n",
        "        income_statement = financials['income_statement']\n",
        "        balance_sheet = financials['balance_sheet']\n",
        "        cash_flow_statement = financials['cash_flow']\n",
        "        info = financials['info']\n",
        "        is_spec = is_speculative(financials)\n",
        "\n",
        "         # A stock is considered speculative if any of the conditions are met\n",
        "        analysis['is_speculative'] = is_spec\n",
        "\n",
        "        # Revenue Growth\n",
        "        revenue = income_statement.loc['Total Revenue'].dropna()\n",
        "        if len(revenue) >= 2:\n",
        "            if revenue.iloc[-2] != 0:\n",
        "                revenue_growth = (revenue.iloc[-1] - revenue.iloc[-2]) / revenue.iloc[-2]\n",
        "                analysis['revenue_growth'] = revenue_growth\n",
        "            else:\n",
        "                analysis['revenue_growth'] = None\n",
        "                logging.warning(f\"Revenue growth calculation for {ticker} skipped due to zero revenue in the previous period.\")\n",
        "        else:\n",
        "            analysis['revenue_growth'] = None\n",
        "\n",
        "        # Net Income Growth\n",
        "        net_income = income_statement.loc['Net Income'].dropna()\n",
        "        if len(net_income) >= 2:\n",
        "            if net_income.iloc[-2] != 0:\n",
        "                net_income_growth = (net_income.iloc[-1] - net_income.iloc[-2]) / net_income.iloc[-2]\n",
        "                analysis['net_income_growth'] = net_income_growth\n",
        "            else:\n",
        "                analysis['net_income_growth'] = None\n",
        "                logging.warning(f\"Net income growth calculation for {ticker} skipped due to zero net income in the previous period.\")\n",
        "        else:\n",
        "            analysis['net_income_growth'] = None\n",
        "\n",
        "        # EBITDA Growth\n",
        "        possible_ebitda_keys = ['Normalized EBITDA', 'EBITDA']\n",
        "        found_ebitda_key = next((key for key in possible_ebitda_keys if key in income_statement.index), None)\n",
        "        if found_ebitda_key:\n",
        "            ebitda = income_statement.loc[found_ebitda_key].dropna()\n",
        "            if len(ebitda) >= 2:\n",
        "                ebitda_growth = (ebitda.iloc[-1] - ebitda.iloc[-2]) / ebitda.iloc[-2]\n",
        "                analysis['ebitda_growth'] = ebitda_growth\n",
        "            else:\n",
        "                analysis['ebitda_growth'] = None\n",
        "                logging.warning(f\"Not enough data to calculate EBITDA growth for {ticker}.\")\n",
        "        else:\n",
        "            analysis['ebitda_growth'] = None\n",
        "            logging.warning(f\"EBITDA data not found for {ticker}. Available keys: {income_statement.index.tolist()}\")\n",
        "\n",
        "        # Earnings Per Share (EPS) Growth\n",
        "        if 'Diluted EPS' in income_statement.index:\n",
        "            eps = income_statement.loc['Diluted EPS'].dropna()\n",
        "            if len(eps) >= 2:\n",
        "                if eps.iloc[-2] != 0:\n",
        "                    eps_growth = (eps.iloc[-1] - eps.iloc[-2]) / eps.iloc[-2]\n",
        "                    analysis['eps_growth'] = eps_growth\n",
        "                else:\n",
        "                    analysis['eps_growth'] = None\n",
        "                    logging.warning(f\"EPS growth calculation for {ticker} skipped due to zero EPS in the previous period.\")\n",
        "            else:\n",
        "                analysis['eps_growth'] = None\n",
        "        else:\n",
        "            analysis['eps_growth'] = None\n",
        "\n",
        "        # Gross Profit Margin\n",
        "        if 'Gross Profit' in income_statement.index and 'Total Revenue' in income_statement.index:\n",
        "            gross_profit = income_statement.loc['Gross Profit'].dropna()\n",
        "            if len(gross_profit) >= 1 and len(revenue) >= 1:\n",
        "                if revenue.iloc[-1] != 0:\n",
        "                    gross_profit_margin = gross_profit.iloc[-1] / revenue.iloc[-1]\n",
        "                    analysis['gross_profit_margin'] = gross_profit_margin\n",
        "                else:\n",
        "                    analysis['gross_profit_margin'] = None\n",
        "                    logging.warning(f\"Gross profit margin calculation for {ticker} skipped due to zero revenue.\")\n",
        "            else:\n",
        "                analysis['gross_profit_margin'] = None\n",
        "        else:\n",
        "            analysis['gross_profit_margin'] = None\n",
        "\n",
        "        # Operating Margin\n",
        "        if found_ebitda_key and 'Total Revenue' in income_statement.index:\n",
        "            operating_income = income_statement.loc[found_ebitda_key].dropna()\n",
        "            if len(operating_income) >= 1 and len(revenue) >= 1:\n",
        "                if revenue.iloc[-1] != 0:\n",
        "                    operating_margin = operating_income.iloc[-1] / revenue.iloc[-1]\n",
        "                    analysis['operating_margin'] = operating_margin\n",
        "                else:\n",
        "                    analysis['operating_margin'] = None\n",
        "                    logging.warning(f\"Operating margin calculation for {ticker} skipped due to zero revenue.\")\n",
        "            else:\n",
        "                analysis['operating_margin'] = None\n",
        "        else:\n",
        "            analysis['operating_margin'] = None\n",
        "\n",
        "        # Return on Equity (ROE) from 'info' dictionary\n",
        "        roe = info.get('returnOnEquity')\n",
        "        if roe is not None:\n",
        "            analysis['roe'] = roe\n",
        "        else:\n",
        "            analysis['roe'] = None\n",
        "            logging.warning(f\"ROE data not available in 'info' for {ticker}.\")\n",
        "\n",
        "        # Return on Assets (ROA) from 'info' dictionary\n",
        "        roa = info.get('returnOnAssets')\n",
        "        if roa is not None:\n",
        "            analysis['roa'] = roa\n",
        "        else:\n",
        "            analysis['roa'] = None\n",
        "            logging.warning(f\"ROA data not available in 'info' for {ticker}.\")\n",
        "\n",
        "\n",
        "        return analysis\n",
        "\n",
        "    except Exception as e:\n",
        "        logging.error(f\"Error analyzing financials for {ticker}: {e}\")\n",
        "        return None\n"
      ],
      "metadata": {
        "id": "T5a-1iOKuBm2"
      },
      "execution_count": null,
      "outputs": []
    },
    {
      "cell_type": "code",
      "source": [
        "metrics = [\n",
        "    'revenue_growth',\n",
        "    'net_income_growth',\n",
        "    'ebitda_growth',\n",
        "    'eps_growth',\n",
        "    'gross_profit_margin',\n",
        "    'operating_margin',\n",
        "    'roe',\n",
        "    'roa',\n",
        "]\n",
        "# max_score = len(metrics)\n",
        "\n",
        "def evaluate_recovery(analysis, criteria):\n",
        "    score = 0\n",
        "    reasons = []\n",
        "    total_metrics = 0  # Count of metrics evaluated\n",
        "\n",
        "    for metric in metrics:\n",
        "        if analysis[metric] is not None and criteria.get(metric) is not None:\n",
        "            total_metrics += 1\n",
        "            if analysis[metric] >= criteria[metric]:\n",
        "                score += 1\n",
        "            else:\n",
        "                reasons.append(f\"{metric.replace('_', ' ').capitalize()} below threshold\")\n",
        "        else:\n",
        "            reasons.append(f\"{metric.replace('_', ' ').capitalize()} data unavailable\")\n",
        "\n",
        "    # Calculate recovery score as a percentage\n",
        "    if total_metrics > 0:\n",
        "        recovery_score = (score / total_metrics) * 100\n",
        "    else:\n",
        "        recovery_score = None\n",
        "        reasons.append('Insufficient data for scoring')\n",
        "\n",
        "    return recovery_score, reasons\n"
      ],
      "metadata": {
        "id": "CbXWZKr-uP19"
      },
      "execution_count": null,
      "outputs": []
    },
    {
      "cell_type": "code",
      "source": [
        "metrics_priority = {\n",
        "    'net_income_growth': 30,  # Related to Net Profit Margin\n",
        "    'eps_growth': 20,         # Earnings Per Share (EPS)\n",
        "    'roe': 15,                # Return on Equity (ROE)\n",
        "    'revenue_growth': 15,     # Revenue Growth Rate\n",
        "    'cash_flow': 10,          # Cash Flow (assumed as placeholder)\n",
        "    'roa': 3,                 # Return on Assets (ROA)\n",
        "    'operating_margin': 5,    # Operating Profit Margin\n",
        "    'gross_profit_margin': 2  # Gross Profit Margin\n",
        "}\n",
        "\n",
        "def evaluate_recovery_v2(analysis, criteria):\n",
        "    score = 0\n",
        "    reasons = []\n",
        "    total_metrics = 0  # Count of metrics evaluated\n",
        "\n",
        "    for metric in metrics_priority:\n",
        "        if analysis.get(metric) is not None and criteria.get(metric) is not None:\n",
        "            total_metrics += 1\n",
        "            if analysis[metric] >= criteria[metric]:\n",
        "                score += metrics_priority[metric]  # Give more weight to higher-priority metrics\n",
        "            else:\n",
        "                reasons.append(f\"{metric.replace('_', ' ').capitalize()} below threshold\")\n",
        "        else:\n",
        "            reasons.append(f\"{metric.replace('_', ' ').capitalize()} data unavailable\")\n",
        "\n",
        "    # Calculate recovery score as a percentage\n",
        "    max_possible_score = sum(metrics_priority.values())\n",
        "\n",
        "    if total_metrics > 0:\n",
        "        recovery_score = (score / max_possible_score) * 100\n",
        "    else:\n",
        "        recovery_score = 0  # Set default recovery score to 0 if no metrics were evaluated\n",
        "        reasons.append('Insufficient data for scoring')\n",
        "\n",
        "    # Handle cases where too much data is unavailable\n",
        "    if total_metrics < len(metrics_priority) / 2:\n",
        "        reasons.append('Too much data is unavailable to provide a reliable score. Score may not be accurate.')\n",
        "\n",
        "    return recovery_score, reasons\n"
      ],
      "metadata": {
        "id": "mCTjd1hrI2zN"
      },
      "execution_count": null,
      "outputs": []
    },
    {
      "cell_type": "code",
      "source": [
        "def analyze_stock(ticker, filter_speculative=False):\n",
        "    logging.info(f\"Analyzing {ticker}\")\n",
        "    financials = get_financial_data(ticker)\n",
        "    if not financials:\n",
        "        logging.error(f\"No financial data for {ticker}\")\n",
        "        return None\n",
        "    if filter_speculative and is_speculative(financials):\n",
        "        logging.info(f\"{ticker} is a speculative stock. Skipping analysis.\")\n",
        "        return None\n",
        "\n",
        "    # Check stock market company sector from ticker.\n",
        "    analysis = analyze_financials(financials, ticker)\n",
        "    if not analysis:\n",
        "        logging.error(f\"Failed to analyze financials for {ticker}\")\n",
        "        return None\n",
        "\n",
        "    recovery_score, reasons = evaluate_recovery_v2(analysis, recovery_criteria)\n",
        "    analysis_result = {\n",
        "        'Ticker': ticker,\n",
        "        **analysis,\n",
        "        'RecoveryScore': recovery_score,\n",
        "        'Reasons': reasons\n",
        "    }\n",
        "    return analysis_result\n"
      ],
      "metadata": {
        "id": "o95ukpQyugDT"
      },
      "execution_count": null,
      "outputs": []
    },
    {
      "cell_type": "code",
      "source": [
        "def main():\n",
        "    # Initialize logging\n",
        "    logging.basicConfig(level=logging.INFO)\n",
        "\n",
        "    # Run analysis\n",
        "    analysis_results = []\n",
        "\n",
        "    for ticker in stock_list:\n",
        "        print(f\"Analyzing {ticker}.\")\n",
        "        result = analyze_stock(ticker, True)\n",
        "        if result:\n",
        "            analysis_results.append(result)\n",
        "        time.sleep(2)  # Respect API rate limits\n",
        "\n",
        "    df_results = pd.DataFrame(analysis_results)\n",
        "    # Filter recovering stocks\n",
        "    recovering_stocks = df_results[df_results['RecoveryScore'] >= recovery_score_threshold]\n",
        "\n",
        "    # Display results\n",
        "    if not recovering_stocks.empty:\n",
        "        print(\"Recovering stocks:\")\n",
        "        print(recovering_stocks[['Ticker', 'RecoveryScore'] + metrics])\n",
        "    else:\n",
        "        print(\"No stocks met the recovery criteria.\")\n",
        "\n",
        "    # Optional: Save results to CSV\n",
        "    today = datetime.datetime.now().strftime(\"%Y-%m-%d\") # Generate today's date timestamp\n",
        "    # Create filename with today's timestamp\n",
        "    filename = f\"stock_recovery_analysis_{today}.csv\"\n",
        "    # Save the DataFrame to a CSV file with the new filename\n",
        "    recovering_stocks.to_csv(filename, index=False)\n",
        "\n",
        "    # Download the CSV file\n",
        "    files.download(filename)\n"
      ],
      "metadata": {
        "id": "pPJ60VvVukzS"
      },
      "execution_count": null,
      "outputs": []
    },
    {
      "cell_type": "code",
      "source": [
        "if __name__ == \"__main__\":\n",
        "    stock_list = upload_csv(); # Optional: Load datas from CSV file\n",
        "    main()"
      ],
      "metadata": {
        "id": "6R04G0TlvLI0"
      },
      "execution_count": null,
      "outputs": []
    }
  ]
}