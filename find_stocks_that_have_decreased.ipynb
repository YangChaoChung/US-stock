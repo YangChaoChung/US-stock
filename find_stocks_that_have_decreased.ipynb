{
  "nbformat": 4,
  "nbformat_minor": 0,
  "metadata": {
    "colab": {
      "provenance": [],
      "authorship_tag": "ABX9TyNcQrEhNX8MopxoVa545bjB",
      "include_colab_link": true
    },
    "kernelspec": {
      "name": "python3",
      "display_name": "Python 3"
    },
    "language_info": {
      "name": "python"
    }
  },
  "cells": [
    {
      "cell_type": "markdown",
      "metadata": {
        "id": "view-in-github",
        "colab_type": "text"
      },
      "source": [
        "<a href=\"https://colab.research.google.com/github/YangChaoChung/US-stock/blob/main/find_stocks_that_have_decreased.ipynb\" target=\"_parent\"><img src=\"https://colab.research.google.com/assets/colab-badge.svg\" alt=\"Open In Colab\"/></a>"
      ]
    },
    {
      "cell_type": "code",
      "execution_count": 2,
      "metadata": {
        "colab": {
          "base_uri": "https://localhost:8080/"
        },
        "id": "VyyNV74gAAUf",
        "outputId": "c6f4d553-a114-46ec-937b-1d24c854be41"
      },
      "outputs": [
        {
          "output_type": "stream",
          "name": "stdout",
          "text": [
            "Requirement already satisfied: yfinance in /usr/local/lib/python3.10/dist-packages (0.2.51)\n",
            "Collecting pandas_market_calendars\n",
            "  Downloading pandas_market_calendars-4.5.1-py3-none-any.whl.metadata (9.1 kB)\n",
            "Requirement already satisfied: pandas>=1.3.0 in /usr/local/lib/python3.10/dist-packages (from yfinance) (2.2.2)\n",
            "Requirement already satisfied: numpy>=1.16.5 in /usr/local/lib/python3.10/dist-packages (from yfinance) (1.26.4)\n",
            "Requirement already satisfied: requests>=2.31 in /usr/local/lib/python3.10/dist-packages (from yfinance) (2.32.3)\n",
            "Requirement already satisfied: multitasking>=0.0.7 in /usr/local/lib/python3.10/dist-packages (from yfinance) (0.0.11)\n",
            "Requirement already satisfied: lxml>=4.9.1 in /usr/local/lib/python3.10/dist-packages (from yfinance) (5.3.0)\n",
            "Requirement already satisfied: platformdirs>=2.0.0 in /usr/local/lib/python3.10/dist-packages (from yfinance) (4.3.6)\n",
            "Requirement already satisfied: pytz>=2022.5 in /usr/local/lib/python3.10/dist-packages (from yfinance) (2024.2)\n",
            "Requirement already satisfied: frozendict>=2.3.4 in /usr/local/lib/python3.10/dist-packages (from yfinance) (2.4.6)\n",
            "Requirement already satisfied: peewee>=3.16.2 in /usr/local/lib/python3.10/dist-packages (from yfinance) (3.17.8)\n",
            "Requirement already satisfied: beautifulsoup4>=4.11.1 in /usr/local/lib/python3.10/dist-packages (from yfinance) (4.12.3)\n",
            "Requirement already satisfied: html5lib>=1.1 in /usr/local/lib/python3.10/dist-packages (from yfinance) (1.1)\n",
            "Requirement already satisfied: python-dateutil in /usr/local/lib/python3.10/dist-packages (from pandas_market_calendars) (2.8.2)\n",
            "Collecting exchange-calendars>=3.3 (from pandas_market_calendars)\n",
            "  Downloading exchange_calendars-4.7-py3-none-any.whl.metadata (37 kB)\n",
            "Requirement already satisfied: soupsieve>1.2 in /usr/local/lib/python3.10/dist-packages (from beautifulsoup4>=4.11.1->yfinance) (2.6)\n",
            "Collecting pyluach (from exchange-calendars>=3.3->pandas_market_calendars)\n",
            "  Downloading pyluach-2.2.0-py3-none-any.whl.metadata (4.3 kB)\n",
            "Requirement already satisfied: toolz in /usr/local/lib/python3.10/dist-packages (from exchange-calendars>=3.3->pandas_market_calendars) (0.12.1)\n",
            "Requirement already satisfied: tzdata in /usr/local/lib/python3.10/dist-packages (from exchange-calendars>=3.3->pandas_market_calendars) (2024.2)\n",
            "Collecting korean_lunar_calendar (from exchange-calendars>=3.3->pandas_market_calendars)\n",
            "  Downloading korean_lunar_calendar-0.3.1-py3-none-any.whl.metadata (2.8 kB)\n",
            "Requirement already satisfied: six>=1.9 in /usr/local/lib/python3.10/dist-packages (from html5lib>=1.1->yfinance) (1.17.0)\n",
            "Requirement already satisfied: webencodings in /usr/local/lib/python3.10/dist-packages (from html5lib>=1.1->yfinance) (0.5.1)\n",
            "Requirement already satisfied: charset-normalizer<4,>=2 in /usr/local/lib/python3.10/dist-packages (from requests>=2.31->yfinance) (3.4.1)\n",
            "Requirement already satisfied: idna<4,>=2.5 in /usr/local/lib/python3.10/dist-packages (from requests>=2.31->yfinance) (3.10)\n",
            "Requirement already satisfied: urllib3<3,>=1.21.1 in /usr/local/lib/python3.10/dist-packages (from requests>=2.31->yfinance) (2.3.0)\n",
            "Requirement already satisfied: certifi>=2017.4.17 in /usr/local/lib/python3.10/dist-packages (from requests>=2.31->yfinance) (2024.12.14)\n",
            "Downloading pandas_market_calendars-4.5.1-py3-none-any.whl (108 kB)\n",
            "\u001b[2K   \u001b[90m━━━━━━━━━━━━━━━━━━━━━━━━━━━━━━━━━━━━━━━━\u001b[0m \u001b[32m108.1/108.1 kB\u001b[0m \u001b[31m7.2 MB/s\u001b[0m eta \u001b[36m0:00:00\u001b[0m\n",
            "\u001b[?25hDownloading exchange_calendars-4.7-py3-none-any.whl (196 kB)\n",
            "\u001b[2K   \u001b[90m━━━━━━━━━━━━━━━━━━━━━━━━━━━━━━━━━━━━━━━━\u001b[0m \u001b[32m196.9/196.9 kB\u001b[0m \u001b[31m14.1 MB/s\u001b[0m eta \u001b[36m0:00:00\u001b[0m\n",
            "\u001b[?25hDownloading korean_lunar_calendar-0.3.1-py3-none-any.whl (9.0 kB)\n",
            "Downloading pyluach-2.2.0-py3-none-any.whl (25 kB)\n",
            "Installing collected packages: korean_lunar_calendar, pyluach, exchange-calendars, pandas_market_calendars\n",
            "Successfully installed exchange-calendars-4.7 korean_lunar_calendar-0.3.1 pandas_market_calendars-4.5.1 pyluach-2.2.0\n"
          ]
        }
      ],
      "source": [
        "!pip install yfinance pandas_market_calendars"
      ]
    },
    {
      "cell_type": "code",
      "source": [
        "!pip install pandas"
      ],
      "metadata": {
        "colab": {
          "base_uri": "https://localhost:8080/"
        },
        "id": "7IQa2qorBomh",
        "outputId": "58d1fc95-f298-49ad-95a7-1435d288a8dc"
      },
      "execution_count": 3,
      "outputs": [
        {
          "output_type": "stream",
          "name": "stdout",
          "text": [
            "Requirement already satisfied: pandas in /usr/local/lib/python3.10/dist-packages (2.2.2)\n",
            "Requirement already satisfied: numpy>=1.22.4 in /usr/local/lib/python3.10/dist-packages (from pandas) (1.26.4)\n",
            "Requirement already satisfied: python-dateutil>=2.8.2 in /usr/local/lib/python3.10/dist-packages (from pandas) (2.8.2)\n",
            "Requirement already satisfied: pytz>=2020.1 in /usr/local/lib/python3.10/dist-packages (from pandas) (2024.2)\n",
            "Requirement already satisfied: tzdata>=2022.7 in /usr/local/lib/python3.10/dist-packages (from pandas) (2024.2)\n",
            "Requirement already satisfied: six>=1.5 in /usr/local/lib/python3.10/dist-packages (from python-dateutil>=2.8.2->pandas) (1.17.0)\n"
          ]
        }
      ]
    },
    {
      "cell_type": "code",
      "source": [
        "import ftplib\n",
        "import yfinance as yf\n",
        "import pandas as pd\n",
        "import pandas_market_calendars as mcal\n",
        "from datetime import datetime, timedelta\n",
        "from dateutil.relativedelta import relativedelta\n",
        "import logging\n",
        "import time\n",
        "import pandas as pd\n",
        "from google.colab import files\n",
        "\n",
        "# Suppress yfinance error messages\n",
        "logging.getLogger('yfinance').setLevel(logging.CRITICAL)\n",
        "\n",
        "def connect_to_ftp_server(server, encoding=\"utf-8\"):\n",
        "    ftp = ftplib.FTP(server)\n",
        "    ftp.login()\n",
        "    ftp.encoding = encoding\n",
        "    return ftp\n",
        "\n",
        "def download_file(ftp, remote_filename, local_filename):\n",
        "    with open(local_filename, \"wb\") as local_file:\n",
        "        ftp.retrbinary(f\"RETR {remote_filename}\", local_file.write)\n",
        "\n",
        "def extract_symbols(filename, limit=30):\n",
        "    symbols = []\n",
        "    with open(filename, \"r\") as file:\n",
        "        for line in file:\n",
        "            if not line.startswith(\"Symbol\"):  # Skip header line\n",
        "                symbol = line.split(\"|\")[0]  # Extract stock symbol\n",
        "                symbols.append(symbol)\n",
        "                if len(symbols) == limit:\n",
        "                    break\n",
        "    return symbols\n",
        "\n",
        "def adjust_symbol(symbol):\n",
        "    # Handle preferred stocks\n",
        "    if '$' in symbol:\n",
        "        base, preferred = symbol.split('$')\n",
        "        return f\"{base}-P{preferred}\"\n",
        "    # Replace '.' with '-' for share classes\n",
        "    elif '.' in symbol:\n",
        "        return symbol.replace('.', '-')\n",
        "    else:\n",
        "        return symbol\n",
        "\n",
        "def get_trading_dates():\n",
        "    nyse = mcal.get_calendar('NYSE')\n",
        "    # Calculate the date three years ago\n",
        "    three_years_ago = datetime.now() - relativedelta(years=3)\n",
        "    # Get the trading calendar\n",
        "    try:\n",
        "        # Fetch the trading schedule from three years ago to today\n",
        "        schedule = nyse.schedule(start_date=three_years_ago, end_date=datetime.now())\n",
        "        if not schedule.empty:\n",
        "            # Find the closest trading day to three years ago\n",
        "            first_trading_day = schedule.iloc[0].name.date()\n",
        "            print(f\"The closest trading day three years ago: {first_trading_day}\")\n",
        "\n",
        "            # Extend the date range to one week around the target day\n",
        "            start_date = first_trading_day - timedelta(days=3)  # Three days before the first trading day\n",
        "            end_date = first_trading_day + timedelta(days=3)    # Three days after the first trading day\n",
        "            return start_date, end_date\n",
        "    except Exception as e:\n",
        "        print(f\"Error occurred: {e}\")\n",
        "        return None, None\n",
        "    else:\n",
        "        print(\"No trading days available in the specified period.\")\n",
        "        return None, None\n",
        "\n",
        "def download_stock_data(tickers, start_date, end_date):\n",
        "    \"\"\"Download historical stock data for given tickers within a date range.\"\"\"\n",
        "    try:\n",
        "        data = yf.download(tickers, start=start_date, end=end_date, progress=False)\n",
        "        # print(\"download_stock_data:\\n\", data)\n",
        "        if data.empty:\n",
        "            print(\"No historical data available for the given date range and tickers.\")\n",
        "        return data['Close']  # Return only the 'Close' prices\n",
        "    except Exception as e:\n",
        "        print(f\"Failed to download historical data: {e}\")\n",
        "        return pd.DataFrame()  # Return an empty DataFrame on failure\n",
        "\n",
        "def download_latest_data(tickers):\n",
        "    \"\"\"Download the latest data for a list of symbols.\"\"\"\n",
        "    try:\n",
        "        data = yf.download(tickers, period=\"1d\", progress=False)\n",
        "        # print(\"download_latest_data:\\n\", data)\n",
        "        if data.empty:\n",
        "            print(\"No latest data available for the given tickers.\")\n",
        "        return data['Close'].iloc[-1]  # Return the latest 'Close' prices\n",
        "    except Exception as e:\n",
        "        print(f\"Error downloading latest data for tickers: {e}\")\n",
        "        return pd.Series()  # Return an empty Series on failure\n",
        "\n",
        "def batch_symbols(symbols, batch_size=50):\n",
        "    \"\"\"Yield successive batches from symbols.\"\"\"\n",
        "    for i in range(0, len(symbols), batch_size):\n",
        "        yield symbols[i:i + batch_size]\n",
        "\n",
        "def analyze_stock_data(symbol, historical_data, latest_data):\n",
        "    if historical_data.empty or latest_data.empty:\n",
        "        return symbol, None\n",
        "    try:\n",
        "        start_price = historical_data.iloc[0]['Close']  # First available close price from history\n",
        "        end_price = latest_data.iloc[0]['Close']  # Close price from the latest trading day\n",
        "        percentage_change = ((end_price - start_price) / start_price) * 100\n",
        "        return symbol, percentage_change\n",
        "    except Exception as e:\n",
        "        print(f\"Error processing data for {symbol}: {e}\")\n",
        "        return symbol, None\n",
        "\n",
        "def analyze_stock_data(historical_data, latest_data, find_gainers=False):\n",
        "    \"\"\"Analyze stock data to find stocks with more than 80% loss or 100% gain.\"\"\"\n",
        "    significant_changes = []\n",
        "\n",
        "    # Check that data is in the expected format and not empty\n",
        "    if not isinstance(historical_data, pd.DataFrame) or historical_data.empty:\n",
        "        print(\"Historical data is missing or empty.\")\n",
        "        return significant_changes\n",
        "\n",
        "    # Analysis of stock data\n",
        "    for symbol in historical_data.columns:\n",
        "        if symbol in latest_data and pd.notna(historical_data[symbol].iloc[0]) and pd.notna(latest_data[symbol]):\n",
        "            start_price = historical_data[symbol].iloc[0]\n",
        "            end_price = latest_data[symbol]\n",
        "            if start_price != 0:  # Prevent division by zero\n",
        "                percentage_change = ((end_price - start_price) / start_price) * 100\n",
        "                if percentage_change < -50:\n",
        "                    significant_changes.append((symbol, percentage_change, 'Loss'))\n",
        "                elif find_gainers and percentage_change > 100:\n",
        "                    significant_changes.append((symbol, percentage_change, 'Gain'))\n",
        "        else:\n",
        "            print(f\"Data missing for {symbol} in historical or latest data.\")\n",
        "\n",
        "    return significant_changes"
      ],
      "metadata": {
        "id": "0C6TFWONAwt7"
      },
      "execution_count": 4,
      "outputs": []
    },
    {
      "cell_type": "code",
      "source": [
        "def main(find_gainers=False):\n",
        "    ftp_server = \"ftp.nasdaqtrader.com\"\n",
        "    nasdaq_filename = \"nasdaqlisted.txt\"\n",
        "    other_filename = \"otherlisted.txt\"\n",
        "\n",
        "    ftp = connect_to_ftp_server(ftp_server)\n",
        "    ftp.cwd('Symboldirectory')\n",
        "\n",
        "    download_file(ftp, nasdaq_filename, nasdaq_filename)\n",
        "    download_file(ftp, other_filename, other_filename)\n",
        "    ftp.quit()\n",
        "\n",
        "    # Extract symbols\n",
        "    nasdaq_symbols = extract_symbols(nasdaq_filename, limit=0)  # Increase limit as needed, 0 indicate all items\n",
        "    other_symbols = extract_symbols(other_filename, limit=0)\n",
        "\n",
        "    start_date, end_date = get_trading_dates()\n",
        "    if start_date and end_date:\n",
        "        losses_data = []\n",
        "        gains_data = []\n",
        "        all_symbols = nasdaq_symbols[:5] + other_symbols[:5]\n",
        "        # all_symbols = nasdaq_symbols + other_symbols\n",
        "        all_symbols = [adjust_symbol(symbol) for symbol in all_symbols]\n",
        "\n",
        "        for batch in batch_symbols(all_symbols, 5):\n",
        "            historical_data = download_stock_data(batch, start_date, end_date)\n",
        "            latest_data = download_latest_data(batch)\n",
        "            changes = analyze_stock_data(historical_data, latest_data, find_gainers)\n",
        "            if changes:\n",
        "                print(\"Significant stock changes:\")\n",
        "                for stock, change, change_type in changes:\n",
        "                    print(f\"{stock}: {change:.2f}% ({change_type})\")\n",
        "                    if change_type == 'Loss':\n",
        "                        losses_data.append([stock, change])\n",
        "                    elif change_type == 'Gain':\n",
        "                        gains_data.append([stock, change])\n",
        "            time.sleep(3)\n",
        "    else:\n",
        "        print(\"No trading dates found.\")\n",
        "\n",
        "    # Save losses to a CSV file\n",
        "    if losses_data:\n",
        "        losses_df = pd.DataFrame(losses_data, columns=['Symbol', 'Percentage Loss'])\n",
        "        losses_df.to_csv('losses.csv', index=False)\n",
        "        files.download('losses.csv')\n",
        "    else:\n",
        "        print(\"No significant losses found.\")\n",
        "\n",
        "    # Save gains to a separate CSV file\n",
        "    if gains_data:\n",
        "        gains_df = pd.DataFrame(gains_data, columns=['Symbol', 'Percentage Gain'])\n",
        "        gains_df.to_csv('gains.csv', index=False)\n",
        "        files.download('gains.csv')\n",
        "    else:\n",
        "        print(\"No significant gains found.\")"
      ],
      "metadata": {
        "id": "svK78DrO-OlA"
      },
      "execution_count": 8,
      "outputs": []
    },
    {
      "cell_type": "code",
      "source": [
        "if __name__ == \"__main__\":\n",
        "    # Set to True to find stocks with more than 100% gain\n",
        "    main(find_gainers=True)"
      ],
      "metadata": {
        "colab": {
          "base_uri": "https://localhost:8080/",
          "height": 124
        },
        "id": "9-HaMaxP-9lS",
        "outputId": "9e36aa64-0915-485e-95f6-eafba1dabb16"
      },
      "execution_count": 9,
      "outputs": [
        {
          "output_type": "stream",
          "name": "stdout",
          "text": [
            "The closest trading day three years ago: 2022-01-11\n",
            "Significant stock changes:\n",
            "AACG: -56.62% (Loss)\n",
            "AADI: -83.55% (Loss)\n",
            "Data missing for ACT SYMBOL in historical or latest data.\n"
          ]
        },
        {
          "output_type": "display_data",
          "data": {
            "text/plain": [
              "<IPython.core.display.Javascript object>"
            ],
            "application/javascript": [
              "\n",
              "    async function download(id, filename, size) {\n",
              "      if (!google.colab.kernel.accessAllowed) {\n",
              "        return;\n",
              "      }\n",
              "      const div = document.createElement('div');\n",
              "      const label = document.createElement('label');\n",
              "      label.textContent = `Downloading \"${filename}\": `;\n",
              "      div.appendChild(label);\n",
              "      const progress = document.createElement('progress');\n",
              "      progress.max = size;\n",
              "      div.appendChild(progress);\n",
              "      document.body.appendChild(div);\n",
              "\n",
              "      const buffers = [];\n",
              "      let downloaded = 0;\n",
              "\n",
              "      const channel = await google.colab.kernel.comms.open(id);\n",
              "      // Send a message to notify the kernel that we're ready.\n",
              "      channel.send({})\n",
              "\n",
              "      for await (const message of channel.messages) {\n",
              "        // Send a message to notify the kernel that we're ready.\n",
              "        channel.send({})\n",
              "        if (message.buffers) {\n",
              "          for (const buffer of message.buffers) {\n",
              "            buffers.push(buffer);\n",
              "            downloaded += buffer.byteLength;\n",
              "            progress.value = downloaded;\n",
              "          }\n",
              "        }\n",
              "      }\n",
              "      const blob = new Blob(buffers, {type: 'application/binary'});\n",
              "      const a = document.createElement('a');\n",
              "      a.href = window.URL.createObjectURL(blob);\n",
              "      a.download = filename;\n",
              "      div.appendChild(a);\n",
              "      a.click();\n",
              "      div.remove();\n",
              "    }\n",
              "  "
            ]
          },
          "metadata": {}
        },
        {
          "output_type": "display_data",
          "data": {
            "text/plain": [
              "<IPython.core.display.Javascript object>"
            ],
            "application/javascript": [
              "download(\"download_147e41c8-6015-4552-a8bd-104f781da6b3\", \"losses.csv\", 70)"
            ]
          },
          "metadata": {}
        },
        {
          "output_type": "stream",
          "name": "stdout",
          "text": [
            "No significant gains found.\n"
          ]
        }
      ]
    }
  ]
}