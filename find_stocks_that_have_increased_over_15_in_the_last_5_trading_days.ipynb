{
  "nbformat": 4,
  "nbformat_minor": 0,
  "metadata": {
    "colab": {
      "provenance": [],
      "authorship_tag": "ABX9TyN0kCxK+aPgy3v5nAYeIZpC",
      "include_colab_link": true
    },
    "kernelspec": {
      "name": "python3",
      "display_name": "Python 3"
    },
    "language_info": {
      "name": "python"
    }
  },
  "cells": [
    {
      "cell_type": "markdown",
      "metadata": {
        "id": "view-in-github",
        "colab_type": "text"
      },
      "source": [
        "<a href=\"https://colab.research.google.com/github/YangChaoChung/US-stock/blob/main/find_stocks_that_have_increased_over_15_in_the_last_5_trading_days.ipynb\" target=\"_parent\"><img src=\"https://colab.research.google.com/assets/colab-badge.svg\" alt=\"Open In Colab\"/></a>"
      ]
    },
    {
      "cell_type": "code",
      "source": [
        "!pip install yfinance"
      ],
      "metadata": {
        "colab": {
          "base_uri": "https://localhost:8080/"
        },
        "id": "iT9T8fO-UoAM",
        "outputId": "d26b8556-fad8-4a2c-8b91-b5a17c972619"
      },
      "execution_count": null,
      "outputs": [
        {
          "output_type": "stream",
          "name": "stdout",
          "text": [
            "Requirement already satisfied: yfinance in /usr/local/lib/python3.10/dist-packages (0.2.48)\n",
            "Requirement already satisfied: pandas>=1.3.0 in /usr/local/lib/python3.10/dist-packages (from yfinance) (2.2.2)\n",
            "Requirement already satisfied: numpy>=1.16.5 in /usr/local/lib/python3.10/dist-packages (from yfinance) (1.26.4)\n",
            "Requirement already satisfied: requests>=2.31 in /usr/local/lib/python3.10/dist-packages (from yfinance) (2.32.3)\n",
            "Requirement already satisfied: multitasking>=0.0.7 in /usr/local/lib/python3.10/dist-packages (from yfinance) (0.0.11)\n",
            "Requirement already satisfied: lxml>=4.9.1 in /usr/local/lib/python3.10/dist-packages (from yfinance) (5.3.0)\n",
            "Requirement already satisfied: platformdirs>=2.0.0 in /usr/local/lib/python3.10/dist-packages (from yfinance) (4.3.6)\n",
            "Requirement already satisfied: pytz>=2022.5 in /usr/local/lib/python3.10/dist-packages (from yfinance) (2024.2)\n",
            "Requirement already satisfied: frozendict>=2.3.4 in /usr/local/lib/python3.10/dist-packages (from yfinance) (2.4.6)\n",
            "Requirement already satisfied: peewee>=3.16.2 in /usr/local/lib/python3.10/dist-packages (from yfinance) (3.17.7)\n",
            "Requirement already satisfied: beautifulsoup4>=4.11.1 in /usr/local/lib/python3.10/dist-packages (from yfinance) (4.12.3)\n",
            "Requirement already satisfied: html5lib>=1.1 in /usr/local/lib/python3.10/dist-packages (from yfinance) (1.1)\n",
            "Requirement already satisfied: soupsieve>1.2 in /usr/local/lib/python3.10/dist-packages (from beautifulsoup4>=4.11.1->yfinance) (2.6)\n",
            "Requirement already satisfied: six>=1.9 in /usr/local/lib/python3.10/dist-packages (from html5lib>=1.1->yfinance) (1.16.0)\n",
            "Requirement already satisfied: webencodings in /usr/local/lib/python3.10/dist-packages (from html5lib>=1.1->yfinance) (0.5.1)\n",
            "Requirement already satisfied: python-dateutil>=2.8.2 in /usr/local/lib/python3.10/dist-packages (from pandas>=1.3.0->yfinance) (2.8.2)\n",
            "Requirement already satisfied: tzdata>=2022.7 in /usr/local/lib/python3.10/dist-packages (from pandas>=1.3.0->yfinance) (2024.2)\n",
            "Requirement already satisfied: charset-normalizer<4,>=2 in /usr/local/lib/python3.10/dist-packages (from requests>=2.31->yfinance) (3.4.0)\n",
            "Requirement already satisfied: idna<4,>=2.5 in /usr/local/lib/python3.10/dist-packages (from requests>=2.31->yfinance) (3.10)\n",
            "Requirement already satisfied: urllib3<3,>=1.21.1 in /usr/local/lib/python3.10/dist-packages (from requests>=2.31->yfinance) (2.2.3)\n",
            "Requirement already satisfied: certifi>=2017.4.17 in /usr/local/lib/python3.10/dist-packages (from requests>=2.31->yfinance) (2024.8.30)\n"
          ]
        }
      ]
    },
    {
      "cell_type": "code",
      "source": [
        "!pip install pandas"
      ],
      "metadata": {
        "colab": {
          "base_uri": "https://localhost:8080/"
        },
        "id": "BTjG0p8cUt4n",
        "outputId": "53d910c4-a104-4295-d22d-e37669ed537b"
      },
      "execution_count": null,
      "outputs": [
        {
          "output_type": "stream",
          "name": "stdout",
          "text": [
            "Requirement already satisfied: pandas in /usr/local/lib/python3.10/dist-packages (2.2.2)\n",
            "Requirement already satisfied: numpy>=1.22.4 in /usr/local/lib/python3.10/dist-packages (from pandas) (1.26.4)\n",
            "Requirement already satisfied: python-dateutil>=2.8.2 in /usr/local/lib/python3.10/dist-packages (from pandas) (2.8.2)\n",
            "Requirement already satisfied: pytz>=2020.1 in /usr/local/lib/python3.10/dist-packages (from pandas) (2024.2)\n",
            "Requirement already satisfied: tzdata>=2022.7 in /usr/local/lib/python3.10/dist-packages (from pandas) (2024.2)\n",
            "Requirement already satisfied: six>=1.5 in /usr/local/lib/python3.10/dist-packages (from python-dateutil>=2.8.2->pandas) (1.16.0)\n"
          ]
        }
      ]
    },
    {
      "cell_type": "code",
      "source": [
        "import ftplib\n",
        "import yfinance as yf\n",
        "import pandas as pd\n",
        "from datetime import datetime, timedelta\n",
        "from dateutil.relativedelta import relativedelta\n",
        "import logging\n",
        "import time\n",
        "from google.colab import files\n",
        "\n",
        "# Suppress yfinance error messages\n",
        "logging.getLogger('yfinance').setLevel(logging.CRITICAL)"
      ],
      "metadata": {
        "id": "HcLcAgytj6ll"
      },
      "execution_count": 1,
      "outputs": []
    },
    {
      "cell_type": "code",
      "source": [
        "def download_recent_stock_data(tickers, start_date):\n",
        "    \"\"\"Download recent stock data for given tickers starting from start_date.\"\"\"\n",
        "    try:\n",
        "        data = yf.download(\n",
        "            tickers,\n",
        "            start=start_date,\n",
        "            end=datetime.now(),\n",
        "            progress=False,\n",
        "            threads=False  # Remove or set group_by='column' here\n",
        "        )\n",
        "        if data.empty:\n",
        "            print(\"No recent data available for the given tickers.\")\n",
        "            return pd.DataFrame()\n",
        "        if isinstance(tickers, str):\n",
        "            close_prices = pd.DataFrame({tickers: data['Close']})\n",
        "        else:\n",
        "            close_prices = data['Close']\n",
        "        return close_prices\n",
        "    except Exception as e:\n",
        "        print(f\"Failed to download recent data: {e}\")\n",
        "        return pd.DataFrame()\n",
        "\n"
      ],
      "metadata": {
        "id": "mxcUQdFdj9Jj"
      },
      "execution_count": null,
      "outputs": []
    },
    {
      "cell_type": "code",
      "source": [
        "def connect_to_ftp_server(server, encoding=\"utf-8\"):\n",
        "    ftp = ftplib.FTP(server)\n",
        "    ftp.login()\n",
        "    ftp.encoding = encoding\n",
        "    return ftp\n",
        "\n",
        "def download_file(ftp, remote_filename, local_filename):\n",
        "    with open(local_filename, \"wb\") as local_file:\n",
        "        ftp.retrbinary(f\"RETR {remote_filename}\", local_file.write)\n",
        "\n",
        "def extract_symbols(filename, limit=30):\n",
        "    symbols = []\n",
        "    with open(filename, \"r\") as file:\n",
        "        for line in file:\n",
        "            if not line.startswith(\"Symbol\"):  # Skip header line\n",
        "                symbol = line.split(\"|\")[0].strip()  # Extract stock symbol\n",
        "                symbols.append(symbol)\n",
        "                if len(symbols) == limit:\n",
        "                    break\n",
        "    return symbols\n",
        "\n",
        "def is_valid_ticker(ticker):\n",
        "    \"\"\"Check if the ticker is valid in yfinance.\"\"\"\n",
        "    try:\n",
        "        info = yf.Ticker(ticker).info\n",
        "        return 'regularMarketPrice' in info\n",
        "    except:\n",
        "        return False\n",
        "\n",
        "def download_latest_data(tickers):\n",
        "    \"\"\"Download the latest data for a list of symbols.\"\"\"\n",
        "    try:\n",
        "        # period=(1d,5d,1mo,3mo,6mo,1y,2y,5y,10y,ytd,max)\n",
        "        data = yf.download(\n",
        "            tickers,\n",
        "            period=\"5d\",\n",
        "            progress=False,\n",
        "            threads=False,\n",
        "            group_by='ticker',  # Ensure data is grouped by ticker\n",
        "            auto_adjust=True    # Adjust data for splits and dividends\n",
        "        )\n",
        "        if data.empty:\n",
        "            print(\"No latest data available for the given tickers.\")\n",
        "            return pd.DataFrame()\n",
        "        return data  # Return the full data\n",
        "    except Exception as e:\n",
        "        print(f\"Error downloading latest data for tickers: {e}\")\n",
        "        return pd.DataFrame()  # Return an empty DataFrame on failure\n",
        "\n",
        "def batch_symbols(symbols, batch_size=50):\n",
        "    \"\"\"Yield successive batches from symbols.\"\"\"\n",
        "    for i in range(0, len(symbols), batch_size):\n",
        "        yield symbols[i:i + batch_size]\n",
        "\n",
        "def adjust_symbol(symbol):\n",
        "    # Handle preferred stocks\n",
        "    if '$' in symbol:\n",
        "        base, preferred = symbol.split('$')\n",
        "        return f\"{base}-P{preferred}\"\n",
        "    # Replace '.' with '-' for share classes\n",
        "    elif '.' in symbol:\n",
        "        return symbol.replace('.', '-')\n",
        "    else:\n",
        "        return symbol\n"
      ],
      "metadata": {
        "id": "1VKFT6SRnouY"
      },
      "execution_count": null,
      "outputs": []
    },
    {
      "cell_type": "code",
      "source": [
        "def analyze_recent_stock_data(recent_data):\n",
        "    \"\"\"Analyze stock data to find stocks with more than 15% gain over the last 3 trading days.\"\"\"\n",
        "    significant_gains = []\n",
        "\n",
        "    if recent_data.empty:\n",
        "        print(\"Recent data is missing or empty.\")\n",
        "        return significant_gains\n",
        "\n",
        "    # Ensure consistent data format\n",
        "    if isinstance(recent_data.columns, pd.MultiIndex):\n",
        "        symbols = recent_data.columns.levels[0]\n",
        "    else:\n",
        "        symbols = recent_data.columns\n",
        "\n",
        "    for symbol in symbols:\n",
        "        try:\n",
        "            prices = recent_data[symbol]['Close'].dropna()\n",
        "            print(f\"Processing {symbol}...\")\n",
        "            # print(f\"Prices: {prices}\")\n",
        "            if len(prices) >= 3:\n",
        "                start_price = prices.iloc[0]\n",
        "                end_price = prices.iloc[-1]\n",
        "                if start_price != 0:\n",
        "                    percentage_change = ((end_price - start_price) / start_price) * 100\n",
        "                    if percentage_change > 15:\n",
        "                        # Append results\n",
        "                        significant_gains.append({\n",
        "                            'Symbol': symbol,\n",
        "                            'Total Week Change (%)': percentage_change,\n",
        "                        })\n",
        "            else:\n",
        "                print(f\"Not enough data for {symbol} to calculate 3-day change.\")\n",
        "        except Exception as e:\n",
        "            print(f\"Error processing {symbol}: {e}\")\n",
        "            continue\n",
        "    return significant_gains"
      ],
      "metadata": {
        "id": "boO003qVzsyq"
      },
      "execution_count": null,
      "outputs": []
    },
    {
      "cell_type": "code",
      "source": [
        "def analyze_recent_stock_data_multi_metrics(recent_data):\n",
        "    \"\"\"Analyze stock data to perform various analyses over the last week.\"\"\"\n",
        "    analysis_results = []\n",
        "\n",
        "    if recent_data.empty:\n",
        "        print(\"Recent data is missing or empty.\")\n",
        "        return analysis_results\n",
        "\n",
        "    # Ensure consistent data format\n",
        "    if isinstance(recent_data.columns, pd.MultiIndex):\n",
        "        symbols = recent_data.columns.levels[0]\n",
        "    else:\n",
        "        symbols = recent_data.columns\n",
        "\n",
        "    for symbol in symbols:\n",
        "        stock_data = recent_data[symbol].dropna()\n",
        "        print(f\"Processing {symbol}...\")\n",
        "\n",
        "        if len(stock_data) >= 5:\n",
        "            close_prices = stock_data['Close']\n",
        "            volumes = stock_data['Volume']\n",
        "            # Calculate total percentage change over the week\n",
        "            start_price = close_prices.iloc[0]\n",
        "            end_price = close_prices.iloc[-1]\n",
        "\n",
        "            if start_price != 0:\n",
        "                total_pct_change = ((end_price - start_price) / start_price) * 100\n",
        "\n",
        "                # Calculate daily returns\n",
        "                daily_returns = close_prices.pct_change().dropna()\n",
        "                average_daily_return = daily_returns.mean() * 100  # Convert to percentage\n",
        "                volatility = daily_returns.std() * 100  # Convert to percentage\n",
        "\n",
        "                # Check for consistent growth\n",
        "                positive_days = (daily_returns > 0).sum()\n",
        "                consistent_growth = positive_days == len(daily_returns)\n",
        "\n",
        "                # Calculate OBV\n",
        "                obv = [volumes.iloc[0]]\n",
        "                for i in range(1, len(close_prices)):\n",
        "                    if close_prices.iloc[i] > close_prices.iloc[i - 1]:\n",
        "                        obv.append(obv[-1] + volumes.iloc[i])\n",
        "                    elif close_prices.iloc[i] < close_prices.iloc[i - 1]:\n",
        "                        obv.append(obv[-1] - volumes.iloc[i])\n",
        "                    else:\n",
        "                        obv.append(obv[-1])\n",
        "                obv_change = ((obv[-1] - obv[0]) / obv[0]) * 100\n",
        "\n",
        "                if (total_pct_change >= 15) and (obv_change >= 1):\n",
        "                  # Append results\n",
        "                  analysis_results.append({\n",
        "                      'Symbol': symbol,\n",
        "                      'Total Week Change (%)': round(total_pct_change, 2),\n",
        "                      'Average Daily Return (%)': round(average_daily_return, 2),\n",
        "                      'Volatility (%)': round(volatility, 2),\n",
        "                      'Consistent Growth': consistent_growth,\n",
        "                      'OBV Change (%)': round(obv_change, 2),\n",
        "                  })\n",
        "        else:\n",
        "            print(f\"Not enough data for {symbol} to perform weekly analysis.\")\n",
        "            logging.info(f\"Not enough data for {symbol} to perform weekly analysis.\")\n",
        "    return analysis_results\n"
      ],
      "metadata": {
        "id": "Te61tY3F0Rjm"
      },
      "execution_count": null,
      "outputs": []
    },
    {
      "cell_type": "code",
      "source": [
        "def main():\n",
        "    ftp_server = \"ftp.nasdaqtrader.com\"\n",
        "    nasdaq_filename = \"nasdaqlisted.txt\"\n",
        "    other_filename = \"otherlisted.txt\"\n",
        "\n",
        "    ftp = connect_to_ftp_server(ftp_server)\n",
        "    ftp.cwd('Symboldirectory')\n",
        "\n",
        "    download_file(ftp, nasdaq_filename, nasdaq_filename)\n",
        "    download_file(ftp, other_filename, other_filename)\n",
        "    ftp.quit()\n",
        "\n",
        "    # Extract symbols\n",
        "    nasdaq_symbols = extract_symbols(nasdaq_filename, limit=10)  # Increase limit as needed, 0 indicate all items\n",
        "    other_symbols = extract_symbols(other_filename, limit=5)\n",
        "\n",
        "    all_symbols = nasdaq_symbols + other_symbols\n",
        "    all_symbols = [adjust_symbol(symbol) for symbol in all_symbols]\n",
        "    # print (all_symbols)\n",
        "    # print (len(all_symbols))\n",
        "    # return None\n",
        "\n",
        "    # Prepare to collect significant gains\n",
        "    all_gains = []\n",
        "\n",
        "    batch_size = 10  # Adjust as needed\n",
        "    for batch in batch_symbols(all_symbols, batch_size):\n",
        "        recent_data = download_latest_data(batch)\n",
        "        gains = analyze_recent_stock_data_multi_metrics(recent_data)\n",
        "        # gains = analyze_recent_stock_data(recent_data)\n",
        "\n",
        "        if gains:\n",
        "            all_gains.extend(gains)\n",
        "        time.sleep(3)  # Sleep to avoid rate limiting\n",
        "\n",
        "    if all_gains:\n",
        "        # Convert to DataFrame and save to CSV\n",
        "        gains_df = pd.DataFrame(all_gains)\n",
        "        gains_df.sort_values(by='Total Week Change (%)', ascending=False, inplace=True)\n",
        "        gains_df.to_csv('weekly_stock_analysis.csv', index=False)\n",
        "        logging.info(\"Analysis complete. Results saved to 'weekly_stock_analysis.csv'\")\n",
        "        files.download('weekly_stock_analysis.csv')\n",
        "        #today = datetime.datetime.now().strftime(\"%Y-%m-%d\") # Generate today's date timestamp\n",
        "        # Create filename with today's timestamp\n",
        "        #filename = f\"stock_recovery_analysis_{today}.csv\"\n",
        "\n",
        "        # print(gains_df)\n",
        "    else:\n",
        "        print(\"No stocks found with more than 10% gain over the last 3 trading days.\")"
      ],
      "metadata": {
        "id": "Pof1yDj6uxEl"
      },
      "execution_count": null,
      "outputs": []
    },
    {
      "cell_type": "code",
      "source": [
        "if __name__ == \"__main__\":\n",
        "    main()"
      ],
      "metadata": {
        "id": "ewzqzjWDuy_A",
        "collapsed": true
      },
      "execution_count": null,
      "outputs": []
    }
  ]
}